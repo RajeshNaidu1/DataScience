{
  "nbformat": 4,
  "nbformat_minor": 0,
  "metadata": {
    "colab": {
      "name": "Matplotlib-BarGraph.ipynb",
      "provenance": [],
      "authorship_tag": "ABX9TyPUh0fBEyNlc99PK5gcCet5",
      "include_colab_link": true
    },
    "kernelspec": {
      "name": "python3",
      "display_name": "Python 3"
    },
    "language_info": {
      "name": "python"
    }
  },
  "cells": [
    {
      "cell_type": "markdown",
      "metadata": {
        "id": "view-in-github",
        "colab_type": "text"
      },
      "source": [
        "<a href=\"https://colab.research.google.com/github/RajeshNaidu1/DataScience/blob/main/Matplotlib_BarGraph.ipynb\" target=\"_parent\"><img src=\"https://colab.research.google.com/assets/colab-badge.svg\" alt=\"Open In Colab\"/></a>"
      ]
    },
    {
      "cell_type": "code",
      "metadata": {
        "id": "Re5LIfRfQ3C_"
      },
      "source": [
        "import matplotlib as mpl\n",
        "import matplotlib.pyplot as plt\n",
        "import numpy as np\n",
        "import pandas as pd"
      ],
      "execution_count": 2,
      "outputs": []
    },
    {
      "cell_type": "code",
      "metadata": {
        "colab": {
          "base_uri": "https://localhost:8080/",
          "height": 265
        },
        "id": "YrgwaHqvQhYx",
        "outputId": "b07231d5-f8db-4da9-c0ae-95bfaf0379ca"
      },
      "source": [
        "#creating bar graph\n",
        "labels=['A','B','C']\n",
        "values=[1,4,2]\n",
        "bars=plt.bar(labels,values)\n",
        "bars[0].set_hatch('/')\n",
        "bars[1].set_hatch('o')\n",
        "bars[2].set_hatch('*')\n",
        "plt.show()"
      ],
      "execution_count": 7,
      "outputs": [
        {
          "output_type": "display_data",
          "data": {
            "image/png": "[encoded data removed]",
            "text/plain": [
              "<Figure size 432x288 with 1 Axes>"
            ]
          },
          "metadata": {
            "needs_background": "light"
          }
        }
      ]
    },
    {
      "cell_type": "code",
      "metadata": {
        "colab": {
          "base_uri": "https://localhost:8080/",
          "height": 265
        },
        "id": "Ymdob9qlS12u",
        "outputId": "3d4417c6-36f3-41a1-f5db-de2ed46224b4"
      },
      "source": [
        "labels=['A','B','C']\n",
        "values=[1,4,2]\n",
        "# alternate way for hatching\n",
        "patterns=['/','o','*']\n",
        "bars=plt.bar(labels,values)\n",
        "for bar in bars:\n",
        "  bar.set_hatch(patterns.pop(0)) #if 0 not there then, patterns will reverse"
      ],
      "execution_count": 12,
      "outputs": [
        {
          "output_type": "display_data",
          "data": {
            "image/png": "[encoded data removed]",
            "text/plain": [
              "<Figure size 432x288 with 1 Axes>"
            ]
          },
          "metadata": {
            "needs_background": "light"
          }
        }
      ]
    }
  ]
}