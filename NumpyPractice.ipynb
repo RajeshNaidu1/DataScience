{
  "nbformat": 4,
  "nbformat_minor": 0,
  "metadata": {
    "colab": {
      "name": "NumpyPractice.ipynb",
      "provenance": [],
      "authorship_tag": "ABX9TyNQW3hT2n4WrSpS7ksXr42c",
      "include_colab_link": true
    },
    "kernelspec": {
      "name": "python3",
      "display_name": "Python 3"
    },
    "language_info": {
      "name": "python"
    }
  },
  "cells": [
    {
      "cell_type": "markdown",
      "metadata": {
        "id": "view-in-github",
        "colab_type": "text"
      },
      "source": [
        "<a href=\"https://colab.research.google.com/github/RajeshNaidu1/DataScience/blob/main/NumpyPractice.ipynb\" target=\"_parent\"><img src=\"https://colab.research.google.com/assets/colab-badge.svg\" alt=\"Open In Colab\"/></a>"
      ]
    },
    {
      "cell_type": "code",
      "metadata": {
        "id": "y-0lRgF4e51i",
        "colab": {
          "base_uri": "https://localhost:8080/"
        },
        "outputId": "ed61820c-9862-4b70-910b-5a8ed4a08b69"
      },
      "source": [
        "#full and empty numpy\n",
        "import numpy as np\n",
        "a= np.empty([2,2])\n",
        "b= np.full((2,2),5,dtype=int)\n",
        "print(a)\n",
        "print(b)"
      ],
      "execution_count": null,
      "outputs": [
        {
          "output_type": "stream",
          "name": "stdout",
          "text": [
            "[[2.5e-323 2.5e-323]\n",
            " [2.5e-323 2.5e-323]]\n",
            "[[5 5]\n",
            " [5 5]]\n"
          ]
        }
      ]
    },
    {
      "cell_type": "code",
      "metadata": {
        "colab": {
          "base_uri": "https://localhost:8080/"
        },
        "id": "PGX_MVyRgpCo",
        "outputId": "b5558958-56f4-418c-9c08-54a39029e966"
      },
      "source": [
        "#numpy full of zeros and ones\n",
        "import numpy as np\n",
        "a= np.zeros((3,3))\n",
        "print(a)\n",
        "b= np.ones((3,3))\n",
        "print(b)"
      ],
      "execution_count": null,
      "outputs": [
        {
          "output_type": "stream",
          "name": "stdout",
          "text": [
            "[[0. 0. 0.]\n",
            " [0. 0. 0.]\n",
            " [0. 0. 0.]]\n",
            "[[1. 1. 1.]\n",
            " [1. 1. 1.]\n",
            " [1. 1. 1.]]\n"
          ]
        }
      ]
    },
    {
      "cell_type": "code",
      "metadata": {
        "colab": {
          "base_uri": "https://localhost:8080/"
        },
        "id": "ov3_qsHEhsjt",
        "outputId": "5a501ac4-8cea-4c41-aafa-f6b4d79c4f1a"
      },
      "source": [
        "#checking wheter numpy has specified row\n",
        "import numpy as np\n",
        "a= np.array([[1,2,3],\n",
        "            [4,5,6],\n",
        "            [7,8,9]])\n",
        "print([4,5,6] in a.tolist())\n",
        "print([1,2,4] in a.tolist())"
      ],
      "execution_count": null,
      "outputs": [
        {
          "output_type": "stream",
          "name": "stdout",
          "text": [
            "True\n",
            "False\n"
          ]
        }
      ]
    },
    {
      "cell_type": "code",
      "metadata": {
        "colab": {
          "base_uri": "https://localhost:8080/"
        },
        "id": "seWXtTnimBGL",
        "outputId": "fd88a90b-59e0-448a-c300-d573f43d3168"
      },
      "source": [
        "#reverse numpy\n",
        "import numpy as np\n",
        "a= np.array([1,2,3,4,5])\n",
        "reverse= a[: : -1]\n",
        "print(reverse)"
      ],
      "execution_count": null,
      "outputs": [
        {
          "output_type": "stream",
          "name": "stdout",
          "text": [
            "[5 4 3 2 1]\n"
          ]
        }
      ]
    }
  ]
}