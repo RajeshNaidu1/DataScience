{
  "nbformat": 4,
  "nbformat_minor": 0,
  "metadata": {
    "colab": {
      "name": "Pandas_Series.ipynb",
      "provenance": [],
      "collapsed_sections": [],
      "authorship_tag": "ABX9TyMJnotdyioC8P1SoaSM6lEl",
      "include_colab_link": true
    },
    "kernelspec": {
      "name": "python3",
      "display_name": "Python 3"
    },
    "language_info": {
      "name": "python"
    }
  },
  "cells": [
    {
      "cell_type": "markdown",
      "metadata": {
        "id": "view-in-github",
        "colab_type": "text"
      },
      "source": [
        "<a href=\"https://colab.research.google.com/github/RajeshNaidu1/DataScience/blob/main/Pandas_Series.ipynb\" target=\"_parent\"><img src=\"https://colab.research.google.com/assets/colab-badge.svg\" alt=\"Open In Colab\"/></a>"
      ]
    },
    {
      "cell_type": "code",
      "metadata": {
        "id": "qpmRToPDKbm3"
      },
      "source": [
        "import pandas as pd"
      ],
      "execution_count": null,
      "outputs": []
    },
    {
      "cell_type": "code",
      "metadata": {
        "colab": {
          "base_uri": "https://localhost:8080/"
        },
        "id": "89-6JQ7CKfI9",
        "outputId": "adc228b0-2dd7-4d67-de63-48068b2313f9"
      },
      "source": [
        "#version check of pandas\n",
        "print(pd.__version__)"
      ],
      "execution_count": null,
      "outputs": [
        {
          "output_type": "stream",
          "name": "stdout",
          "text": [
            "1.1.5\n"
          ]
        }
      ]
    },
    {
      "cell_type": "code",
      "metadata": {
        "colab": {
          "base_uri": "https://localhost:8080/"
        },
        "id": "KLEm_wM6Kzjm",
        "outputId": "20d8c2be-45e7-4ca6-d4c6-1744c2b22df4"
      },
      "source": [
        "#creating a Series from the list\n",
        "A = [1,2,3,4]\n",
        "series= pd.Series(A)\n",
        "print(series)"
      ],
      "execution_count": null,
      "outputs": [
        {
          "output_type": "stream",
          "name": "stdout",
          "text": [
            "0    1\n",
            "1    2\n",
            "2    3\n",
            "3    4\n",
            "dtype: int64\n"
          ]
        }
      ]
    },
    {
      "cell_type": "code",
      "metadata": {
        "colab": {
          "base_uri": "https://localhost:8080/"
        },
        "id": "mPNQSNPFL9Xl",
        "outputId": "6dfaecd7-4cc8-4032-f900-0b8b2e5d7441"
      },
      "source": [
        "#creating Panda Series from Numpy\n",
        "import numpy as np\n",
        "n= np.random.randn(5)\n",
        "index = ['a','b','c','d','e']\n",
        "series1= pd.Series(n,index=index)\n",
        "print(series1)"
      ],
      "execution_count": null,
      "outputs": [
        {
          "output_type": "stream",
          "name": "stdout",
          "text": [
            "a   -0.049056\n",
            "b    0.169968\n",
            "c   -0.321959\n",
            "d    2.508754\n",
            "e    0.971595\n",
            "dtype: float64\n"
          ]
        }
      ]
    },
    {
      "cell_type": "code",
      "metadata": {
        "colab": {
          "base_uri": "https://localhost:8080/"
        },
        "id": "-QyBXn1wN3wW",
        "outputId": "b7cf5f45-ad15-4c8b-c91f-197cd3734ca3"
      },
      "source": [
        "#creating Panda Series from Dictionaries\n",
        "d={'a':1,'b':2,'c':3,'d':4}\n",
        "series2=pd.Series(d)\n",
        "print(series2)"
      ],
      "execution_count": null,
      "outputs": [
        {
          "output_type": "stream",
          "name": "stdout",
          "text": [
            "a    1\n",
            "b    2\n",
            "c    3\n",
            "d    4\n",
            "dtype: int64\n"
          ]
        }
      ]
    },
    {
      "cell_type": "code",
      "metadata": {
        "colab": {
          "base_uri": "https://localhost:8080/"
        },
        "id": "7HzN90ovPJ9s",
        "outputId": "8ed5e778-b074-48e0-dac5-fab4ddb65275"
      },
      "source": [
        "#modify the index\n",
        "series.index=['A','B','C','D']\n",
        "print(series)"
      ],
      "execution_count": null,
      "outputs": [
        {
          "output_type": "stream",
          "name": "stdout",
          "text": [
            "A    1\n",
            "B    2\n",
            "C    3\n",
            "D    4\n",
            "dtype: int64\n"
          ]
        }
      ]
    },
    {
      "cell_type": "code",
      "metadata": {
        "colab": {
          "base_uri": "https://localhost:8080/"
        },
        "id": "aPrPaQDrQ119",
        "outputId": "a21b0dfb-80b1-44a8-8cd6-8585a5a912d7"
      },
      "source": [
        "#append the series\n",
        "series3=series.append(series1)\n",
        "print(series3)"
      ],
      "execution_count": null,
      "outputs": [
        {
          "output_type": "stream",
          "name": "stdout",
          "text": [
            "A    1.000000\n",
            "B    2.000000\n",
            "C    3.000000\n",
            "D    4.000000\n",
            "a   -0.049056\n",
            "b    0.169968\n",
            "c   -0.321959\n",
            "d    2.508754\n",
            "e    0.971595\n",
            "dtype: float64\n"
          ]
        }
      ]
    },
    {
      "cell_type": "code",
      "metadata": {
        "colab": {
          "base_uri": "https://localhost:8080/"
        },
        "id": "2ZMomwqGRpv5",
        "outputId": "c7ba23c3-0fa3-4476-a9e9-7e219b408081"
      },
      "source": [
        "#deleting the data from Series\n",
        "series2.drop('d')"
      ],
      "execution_count": null,
      "outputs": [
        {
          "output_type": "execute_result",
          "data": {
            "text/plain": [
              "a    1\n",
              "b    2\n",
              "c    3\n",
              "dtype: int64"
            ]
          },
          "metadata": {},
          "execution_count": 16
        }
      ]
    },
    {
      "cell_type": "code",
      "metadata": {
        "colab": {
          "base_uri": "https://localhost:8080/"
        },
        "id": "Pc8LX5n7A3_z",
        "outputId": "b5a381dc-fea5-4a70-a8da-c7759e03cf62"
      },
      "source": [
        "print('median', series2.median())\n",
        "print('max', series2.max())\n",
        "print('min', series2.min())"
      ],
      "execution_count": null,
      "outputs": [
        {
          "output_type": "stream",
          "name": "stdout",
          "text": [
            "median 2.5\n",
            "max 4\n",
            "min 1\n"
          ]
        }
      ]
    }
  ]
}